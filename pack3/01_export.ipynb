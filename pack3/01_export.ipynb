{
 "cells": [
  {
   "cell_type": "markdown",
   "metadata": {},
   "source": []
  },
  {
   "cell_type": "markdown",
   "metadata": {},
   "source": [
    "## About\n",
    "\n",
    "\n",
    "* in that venv export asked for next versions:\n",
    "```\n",
    "pip install model-compression-toolkit==2.1.1 sony-custom-layers==0.2.0 tensorflow==2.12.0\n",
    "```\n",
    "\n",
    "\n"
   ]
  },
  {
   "cell_type": "code",
   "execution_count": null,
   "metadata": {},
   "outputs": [],
   "source": [
    "from ultralytics import YOLO\n",
    "\n",
    "# Load a YOLOv8n PyTorch model\n",
    "model = YOLO(\"yolov8n-face.pt\")\n",
    "\n",
    "# Export the model\n",
    "model.export(format=\"imx\", data=\"coco8.yaml\")  # exports with PTQ quantization by default\n"
   ]
  },
  {
   "cell_type": "markdown",
   "metadata": {},
   "source": [
    "## test"
   ]
  },
  {
   "cell_type": "code",
   "execution_count": null,
   "metadata": {},
   "outputs": [],
   "source": [
    "test_url = 'https://www.ultralytics.com/images/bus.jpg'"
   ]
  },
  {
   "cell_type": "code",
   "execution_count": null,
   "metadata": {},
   "outputs": [],
   "source": [
    "## show image\n",
    "import requests\n",
    "from PIL import Image\n",
    "from io import BytesIO\n",
    "import matplotlib.pyplot as plt\n",
    "# Fetch the image via HTTP GET\n",
    "response = requests.get(test_url)\n",
    "# Open the image from the downloaded bytes\n",
    "img = Image.open(BytesIO(response.content))\n",
    "# Display using matplotlib\n",
    "plt.imshow(img)\n",
    "plt.axis('off')  # Hide axis labels\n",
    "plt.show()\n"
   ]
  },
  {
   "cell_type": "code",
   "execution_count": null,
   "metadata": {},
   "outputs": [],
   "source": [
    "# Load the exported model\n",
    "imx_model = YOLO(\"yolov8n_imx_model\")\n",
    "\n",
    "# Run inference\n",
    "results = imx_model(test_url)"
   ]
  },
  {
   "cell_type": "code",
   "execution_count": null,
   "metadata": {},
   "outputs": [],
   "source": [
    "# 3. Display bounding boxes on image\n",
    "annotated_image = results[0].plot()\n",
    "\n",
    "# 4. (Optional) Show in notebook\n",
    "import matplotlib.pyplot as plt\n",
    "\n",
    "plt.imshow(annotated_image)\n",
    "plt.axis(\"off\")\n",
    "plt.show()"
   ]
  }
 ],
 "metadata": {
  "kernelspec": {
   "display_name": "venvBuildImx500",
   "language": "python",
   "name": "python3"
  },
  "language_info": {
   "codemirror_mode": {
    "name": "ipython",
    "version": 3
   },
   "file_extension": ".py",
   "mimetype": "text/x-python",
   "name": "python",
   "nbconvert_exporter": "python",
   "pygments_lexer": "ipython3",
   "version": "3.11.8"
  }
 },
 "nbformat": 4,
 "nbformat_minor": 2
}
